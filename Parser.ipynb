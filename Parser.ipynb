{
 "cells": [
  {
   "cell_type": "code",
   "execution_count": 19,
   "metadata": {},
   "outputs": [],
   "source": [
    "import pandas as pd\n",
    "import numpy as np\n",
    "import csv"
   ]
  },
  {
   "cell_type": "code",
   "execution_count": 20,
   "metadata": {},
   "outputs": [],
   "source": [
    "from lxml import etree\n",
    "import os, sys\n",
    "from unidecode import unidecode\n",
    "\n",
    "\n",
    "#@func: fast_iter\n",
    "#@param context : iterparsed (chunk of xml) data\n",
    "#@param func : handler\n",
    "#@desc: Read xml chunk. After read, clear and delete chunk to release memory.\n",
    "#       Also, replace html encoding to similar ascii code\n",
    "\n",
    "def fast_iter(context):\n",
    "    collaborations = [u'www', u'phdthesis', u'inproceedings', u'incollection', u'proceedings', u'book', u'mastersthesis', u'article']\n",
    "    #xml categories\n",
    "    author_array = []\n",
    "    title = ''\n",
    "    i=0\n",
    "\n",
    "    #read chunk line by line\n",
    "    #we focus author and title\n",
    "    for event, elem in context:\n",
    "        if elem.tag == 'author':\n",
    "            if i<3:\n",
    "                author_array.append(unidecode(elem.text))\n",
    "                i=i+1\n",
    "\n",
    "        if elem.tag == 'title':\n",
    "            if elem.text:\n",
    "                author_array.append(unidecode(elem.text))\n",
    "        \n",
    "        if elem.tag == 'pages':\n",
    "            if elem.text:\n",
    "                author_array.append(unidecode(elem.text))\n",
    "        \n",
    "        if elem.tag == 'year':\n",
    "            if elem.text:\n",
    "                author_array.append(unidecode(elem.text))\n",
    "\n",
    "        if elem.tag == 'volume':\n",
    "            if elem.text:\n",
    "                author_array.append(unidecode(elem.text))\n",
    "                \n",
    "        if elem.tag == 'journal':\n",
    "            if elem.text:\n",
    "                author_array.append(unidecode(elem.text))\n",
    "                \n",
    "        if elem.tag == 'ee type':\n",
    "            if elem.text:\n",
    "                author_array.append(unidecode(elem.text))\n",
    "\n",
    "        if elem.tag == 'url':\n",
    "            if elem.text:\n",
    "                author_array.append(unidecode(elem.text))\n",
    "                \n",
    "    return author_array\n",
    "                                    \n",
    "    \n",
    "                                    \n",
    "    \n",
    "\n",
    "\n"
   ]
  },
  {
   "cell_type": "code",
   "execution_count": 21,
   "metadata": {},
   "outputs": [],
   "source": [
    "def correct_data_format(result):\n",
    "    xml_copy_list=[]\n",
    "    xml_copy_list.append(result[3])\n",
    "    xml_copy_list.append(result[0])\n",
    "    xml_copy_list.append(result[1])\n",
    "    xml_copy_list.append(result[2])\n",
    "    xml_copy_list.append(result[5])\n",
    "    xml_copy_list.append(result[7])\n",
    "    xml_copy_list.append(result[4])\n",
    "    xml_copy_list.append(result[6])\n",
    "    xml_copy_list.append(result[8])\n",
    "    return xml_copy_list"
   ]
  },
  {
   "cell_type": "code",
   "execution_count": 22,
   "metadata": {},
   "outputs": [],
   "source": [
    "def make_dblp_csv_file(filename):\n",
    "    columns=['Paper_Name','Author','Co-Author-1','Co-Author-2','Year','Journal','Pages','Vesrion','url']\n",
    "    with open (\"DPLP.csv\", 'a') as csvfile:\n",
    "            headers = columns\n",
    "            writer = csv.DictWriter(csvfile, delimiter=',', lineterminator='\\n',fieldnames=headers)\n",
    "\n",
    "\n",
    "    for i in filename:\n",
    "        context = etree.iterparse(i, load_dtd=True,html=True)\n",
    "        result=fast_iter(context)\n",
    "        result1=correct_data_format(result)\n",
    "        df=pd.DataFrame(data=np.asarray(result1).reshape(1,9))\n",
    "        with open('DPLP.csv', 'a') as f:\n",
    "            df.to_csv(f, header=False,index=False)\n",
    "    \n",
    "    "
   ]
  },
  {
   "cell_type": "code",
   "execution_count": 23,
   "metadata": {},
   "outputs": [],
   "source": [
    "filename=[\"dummy.xml\",\"dummy2.xml\"]\n",
    "make_dblp_csv_file(filename)"
   ]
  },
  {
   "cell_type": "code",
   "execution_count": null,
   "metadata": {},
   "outputs": [],
   "source": []
  }
 ],
 "metadata": {
  "kernelspec": {
   "display_name": "Python 3",
   "language": "python",
   "name": "python3"
  },
  "language_info": {
   "codemirror_mode": {
    "name": "ipython",
    "version": 3
   },
   "file_extension": ".py",
   "mimetype": "text/x-python",
   "name": "python",
   "nbconvert_exporter": "python",
   "pygments_lexer": "ipython3",
   "version": "3.6.5"
  }
 },
 "nbformat": 4,
 "nbformat_minor": 2
}
